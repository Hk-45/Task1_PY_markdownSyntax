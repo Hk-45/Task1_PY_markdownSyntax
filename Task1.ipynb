{
 "cells": [
  {
   "cell_type": "markdown",
   "id": "b5a9fbbc-47f9-4fd2-9cd4-1f0c1b34b76e",
   "metadata": {},
   "source": [
    "# Horizontal line\n",
    " ---"
   ]
  },
  {
   "cell_type": "markdown",
   "id": "2be0bcdc-1f9a-4dd8-b461-930f62d853a1",
   "metadata": {},
   "source": [
    " # Italic text\n",
    " *Hello World*"
   ]
  },
  {
   "cell_type": "markdown",
   "id": "1a673fc9-9802-4440-830d-b32ebcd6a2e4",
   "metadata": {},
   "source": [
    "# Bold text\n",
    " **Bold Text**"
   ]
  },
  {
   "cell_type": "markdown",
   "id": "2d765e2d-fc68-4377-a90c-0b63e5f75b24",
   "metadata": {},
   "source": [
    "# Headings\n",
    "## Heading 2\n",
    "### Heading 3"
   ]
  },
  {
   "cell_type": "markdown",
   "id": "d9506a18-6563-4a8e-8e53-4df172088af0",
   "metadata": {},
   "source": [
    "# Unorder List\n",
    "<ul>\n",
    "    <li>List 1</li>\n",
    "    <li>List 2</li>\n",
    "    <li>List 3</li>\n",
    "</ul>"
   ]
  },
  {
   "cell_type": "markdown",
   "id": "ec36d19f-c8f1-4d49-904b-0b8b80d734c5",
   "metadata": {},
   "source": [
    "# Number list\n",
    "<ol>\n",
    "    <li>List 1</li>\n",
    "    <li>List 2</li>\n",
    "    <li>List 3</li>\n",
    "</ol>"
   ]
  },
  {
   "cell_type": "markdown",
   "id": "e6721f7f-0376-4d0f-ab55-f79231645b20",
   "metadata": {},
   "source": [
    "# blockqoute \n",
    " > Hello Everyone"
   ]
  },
  {
   "cell_type": "markdown",
   "id": "a3ff9626-5cb5-436c-bd6d-520ca09cde6a",
   "metadata": {},
   "source": [
    "# backticks\n",
    "`hello students` DA9 batch "
   ]
  },
  {
   "cell_type": "markdown",
   "id": "ef95773a-79cd-443d-949f-bcc11d45f096",
   "metadata": {},
   "source": [
    "# Link\n",
    "[Click](http://h.com)"
   ]
  },
  {
   "cell_type": "markdown",
   "id": "0741971e-48ce-4ba9-96c4-60e4a041fe40",
   "metadata": {},
   "source": [
    "# Image\n",
    "![Image](https://img.icons8.com/?size=100&id=YDZWLiU4ErrT&format=png&color=000000)"
   ]
  },
  {
   "cell_type": "markdown",
   "id": "453e67df-7076-4aa3-b885-0ee083def182",
   "metadata": {},
   "source": [
    "# paragraph\n",
    "<p>Using Markdown and learning the basic syntax of markdown.</p>\n",
    "<p>I think I'll use it to format all of my documents from now on.</p>"
   ]
  },
  {
   "cell_type": "markdown",
   "id": "6bd1ae31-590c-40d4-bf47-174455b249aa",
   "metadata": {},
   "source": [
    "# Line Break\n",
    "<p>Using Markdown and learning the basic syntax of markdown.<br>I think I'll use it to format all of my documents from now on.</p>"
   ]
  },
  {
   "cell_type": "code",
   "execution_count": null,
   "id": "af269f70-b847-4b6e-bec5-9c8e7004701b",
   "metadata": {},
   "outputs": [],
   "source": []
  }
 ],
 "metadata": {
  "kernelspec": {
   "display_name": "Python 3 (ipykernel)",
   "language": "python",
   "name": "python3"
  },
  "language_info": {
   "codemirror_mode": {
    "name": "ipython",
    "version": 3
   },
   "file_extension": ".py",
   "mimetype": "text/x-python",
   "name": "python",
   "nbconvert_exporter": "python",
   "pygments_lexer": "ipython3",
   "version": "3.12.4"
  }
 },
 "nbformat": 4,
 "nbformat_minor": 5
}
